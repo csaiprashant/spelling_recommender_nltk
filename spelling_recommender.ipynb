{
 "cells": [
  {
   "cell_type": "markdown",
   "metadata": {},
   "source": [
    "# Spelling Recommender\n",
    "\n",
    "Create three different spelling recommenders, that each take a list of misspelled words and recommends a correctly spelled word for every word in the list.\n",
    "\n",
    "For every misspelled word, the recommender should find the word in the nltk corpus of correct_spellings that has the shortest distance*, and starts with the same letter as the misspelled word, and return that word as a recommendation.\n",
    "\n",
    "*Each of the three different recommenders will use a different distance measure (outlined below)."
   ]
  },
  {
   "cell_type": "code",
   "execution_count": 3,
   "metadata": {},
   "outputs": [
    {
     "name": "stderr",
     "output_type": "stream",
     "text": [
      "[nltk_data] Downloading package words to\n",
      "[nltk_data]     C:\\Users\\csaip\\AppData\\Roaming\\nltk_data...\n",
      "[nltk_data]   Package words is already up-to-date!\n"
     ]
    }
   ],
   "source": [
    "import nltk\n",
    "from nltk.corpus import words\n",
    "nltk.download('words')\n",
    "\n",
    "correct_spellings = words.words()"
   ]
  },
  {
   "cell_type": "markdown",
   "metadata": {},
   "source": [
    "This recommender provides recommendations for the words provided using the following distance metric:\n",
    "\n",
    "**[Jaccard distance](https://en.wikipedia.org/wiki/Jaccard_index) on the trigrams of the two words.**"
   ]
  },
  {
   "cell_type": "code",
   "execution_count": 4,
   "metadata": {},
   "outputs": [
    {
     "data": {
      "text/plain": [
       "['corpulent', 'indecence', 'validate']"
      ]
     },
     "execution_count": 4,
     "metadata": {},
     "output_type": "execute_result"
    }
   ],
   "source": [
    "def jacard_trigram(entries=['cormulent', 'incendenece', 'validrate']):\n",
    "    \n",
    "    d = [1] * len(entries)\n",
    "    recom = [w[0] for w in entries]\n",
    "    for i in correct_spellings:\n",
    "        for j in range(len(entries)):\n",
    "            if i.startswith(entries[j][0]):\n",
    "                a = set(nltk.ngrams(entries[j], n=3))\n",
    "                b = set(nltk.ngrams(i, n=3))\n",
    "                if nltk.jaccard_distance(a,b)< d[j]:\n",
    "                    d[j] = nltk.jaccard_distance(a,b)\n",
    "                    recom[j] = i\n",
    "    return recom\n",
    "    \n",
    "jacard_trigram()"
   ]
  },
  {
   "cell_type": "markdown",
   "metadata": {},
   "source": [
    "This recommender provides recommendations for the words provided using the following distance metric:\n",
    "\n",
    "**[Jaccard distance](https://en.wikipedia.org/wiki/Jaccard_index) on the 4-grams of the two words.**"
   ]
  },
  {
   "cell_type": "code",
   "execution_count": 7,
   "metadata": {},
   "outputs": [
    {
     "data": {
      "text/plain": [
       "['cormus', 'incendiary', 'valid']"
      ]
     },
     "execution_count": 7,
     "metadata": {},
     "output_type": "execute_result"
    }
   ],
   "source": [
    "def jacard_four_gram(entries=['cormulent', 'incendenece', 'validrate']):\n",
    "    \n",
    "    d = [1] * len(entries)\n",
    "    recom = [w[0] for w in entries]\n",
    "    for i in correct_spellings:\n",
    "        for j in range(len(entries)):\n",
    "            if i.startswith(entries[j][0]):\n",
    "                a = set(nltk.ngrams(entries[j], n=4))\n",
    "                b = set(nltk.ngrams(i, n=4))\n",
    "                if nltk.jaccard_distance(a,b)< d[j]:\n",
    "                    d[j] = nltk.jaccard_distance(a,b)\n",
    "                    recom[j] = i\n",
    "    return recom\n",
    "    \n",
    "jacard_four_gram()"
   ]
  },
  {
   "cell_type": "markdown",
   "metadata": {},
   "source": [
    "This recommender provides recommendations for the words provided using the following distance metric:\n",
    "\n",
    "**[Damerau–Levenshtein distance](https://en.wikipedia.org/wiki/Damerau%E2%80%93Levenshtein_distance)**"
   ]
  },
  {
   "cell_type": "code",
   "execution_count": 9,
   "metadata": {},
   "outputs": [
    {
     "data": {
      "text/plain": [
       "['corpulent', 'intendence', 'validate']"
      ]
     },
     "execution_count": 9,
     "metadata": {},
     "output_type": "execute_result"
    }
   ],
   "source": [
    "def levenshtein_distance(entries=['cormulent', 'incendenece', 'validrate']):\n",
    "    \n",
    "    l= len(entries)\n",
    "    recom = [w[0] for w in entries]\n",
    "    d = [nltk.edit_distance(recom[i],entries[i],transpositions = True) for i in range(l)]\n",
    "    for i in correct_spellings:\n",
    "        w=i.lower()\n",
    "        for j in range(l):\n",
    "            if w.startswith(entries[j][0]):\n",
    "                if nltk.edit_distance(w,entries[j],transpositions = True)< d[j]:\n",
    "                    d[j] = nltk.edit_distance(w,entries[j],transpositions = True)\n",
    "                    recom[j] = w          \n",
    "    return recom # Your answer here \n",
    "    \n",
    "levenshtein_distance()"
   ]
  }
 ],
 "metadata": {
  "kernelspec": {
   "display_name": "Python 3",
   "language": "python",
   "name": "python3"
  },
  "language_info": {
   "codemirror_mode": {
    "name": "ipython",
    "version": 3
   },
   "file_extension": ".py",
   "mimetype": "text/x-python",
   "name": "python",
   "nbconvert_exporter": "python",
   "pygments_lexer": "ipython3",
   "version": "3.6.4"
  }
 },
 "nbformat": 4,
 "nbformat_minor": 2
}
